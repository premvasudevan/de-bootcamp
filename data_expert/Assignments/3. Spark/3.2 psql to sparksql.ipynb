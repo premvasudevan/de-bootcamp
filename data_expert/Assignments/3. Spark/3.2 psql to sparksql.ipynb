{
 "cells": [
  {
   "cell_type": "code",
   "execution_count": 2,
   "id": "479d4bad-d2d0-41b2-8023-d6023faa3236",
   "metadata": {},
   "outputs": [],
   "source": [
    "from pyspark.sql import SparkSession\n",
    "from pyspark.sql import functions as f"
   ]
  },
  {
   "cell_type": "code",
   "execution_count": null,
   "id": "09c4c2e5-982c-4a78-a0a1-e95885f5d1ba",
   "metadata": {},
   "outputs": [],
   "source": []
  },
  {
   "cell_type": "code",
   "execution_count": 3,
   "id": "e41a8194-d560-4565-8aef-ed5fe8b62af4",
   "metadata": {},
   "outputs": [
    {
     "name": "stderr",
     "output_type": "stream",
     "text": [
      "25/07/19 06:30:46 WARN SparkSession: Using an existing Spark session; only runtime SQL configurations will take effect.\n"
     ]
    }
   ],
   "source": [
    "spark = SparkSession.builder.appName(\"spark_sql\").getOrCreate()"
   ]
  },
  {
   "cell_type": "code",
   "execution_count": 4,
   "id": "086c3ba7-3751-47bb-84d1-bc80400a1808",
   "metadata": {},
   "outputs": [
    {
     "name": "stderr",
     "output_type": "stream",
     "text": [
      "                                                                                "
     ]
    }
   ],
   "source": [
    "actor_films_df = spark.read.format(\"csv\")\\\n",
    "                        .option(\"header\",\"true\")\\\n",
    "                        .option(\"inferschema\",\"true\")\\\n",
    "                        .load(\"file:/home/iceberg/data/actor_films.csv\")"
   ]
  },
  {
   "cell_type": "code",
   "execution_count": 5,
   "id": "1a97543e-7dc2-4038-9c84-fe2c3371c092",
   "metadata": {},
   "outputs": [],
   "source": [
    "actor_films_df.createOrReplaceTempView(\"actor_films\")"
   ]
  },
  {
   "cell_type": "code",
   "execution_count": null,
   "id": "a79e8483-4a1c-4cd7-aa8e-b537dd68a354",
   "metadata": {},
   "outputs": [
    {
     "name": "stderr",
     "output_type": "stream",
     "text": [
      "[Stage 13:>                                                         (0 + 1) / 1]"
     ]
    },
    {
     "name": "stdout",
     "output_type": "stream",
     "text": [
      "+----------------+----+----------------------------------------------------------------------------------------------------------------------------------------------------------+-------------+\n",
      "|actor           |year|films                                                                                                                                                     |quality_class|\n",
      "+----------------+----+----------------------------------------------------------------------------------------------------------------------------------------------------------+-------------+\n",
      "|Adam Baldwin    |1980|[{film -> Ordinary People, votes -> 47657, rating -> 7.7, filmid -> tt0081283}, {film -> My Bodyguard, votes -> 8730, rating -> 7.1, filmid -> tt0081207}]|good         |\n",
      "|Adam West       |1980|[{film -> The Happy Hooker Goes Hollywood, votes -> 413, rating -> 3.5, filmid -> tt0080839}]                                                             |bad          |\n",
      "|Adrienne Barbeau|1980|[{film -> The Fog, votes -> 65271, rating -> 6.8, filmid -> tt0080749}]                                                                                   |average      |\n",
      "|Al Pacino       |1980|[{film -> Cruising, votes -> 19403, rating -> 6.5, filmid -> tt0080569}]                                                                                  |average      |\n",
      "|Alain Delon     |1980|[{film -> 3 hommes a abattre, votes -> 1471, rating -> 6.3, filmid -> tt0081658}]                                                                         |average      |\n",
      "+----------------+----+----------------------------------------------------------------------------------------------------------------------------------------------------------+-------------+\n",
      "only showing top 5 rows\n",
      "\n"
     ]
    },
    {
     "name": "stderr",
     "output_type": "stream",
     "text": [
      "                                                                                "
     ]
    }
   ],
   "source": [
    "# actor dataset grouped for year 1980 and customized quality_class\n",
    "spark.sql(\"\"\"\n",
    "select actor, year,\n",
    "\t\tarray_agg( map(\n",
    "          'film', film,\n",
    "          'votes', cast(votes as string),\n",
    "          'rating', cast(rating as string),\n",
    "          'filmid', cast(filmid as string))) as films,\n",
    "\t\tcase when avg(rating) > 8 then 'star'\n",
    "\t\twhen avg(rating) > 7 and avg(rating) <= 8 then 'good'\n",
    "\t\twhen avg(rating) > 6 and avg(rating) <= 7 then 'average'\n",
    "\t\twhen avg(rating) <= 6 then 'bad'\n",
    "\tend as quality_class\n",
    "from actor_films \n",
    "group by actor, year\n",
    "\"\"\").show(5, truncate=False)"
   ]
  },
  {
   "cell_type": "code",
   "execution_count": null,
   "id": "efb26d70-3241-4c21-8a16-aa3289ee87fa",
   "metadata": {},
   "outputs": [],
   "source": [
    "# deduped data\n",
    "\n",
    "spark.sql(\"\"\"\n",
    "with cte as (select *, row_number() over (partition by actorid, year, filmid order by year) as rn\n",
    "from actor_films)\n",
    "select actorid, year, film, votes, rating, filmid from cte where rn = 1\n",
    "\"\"\").show(10)"
   ]
  },
  {
   "cell_type": "code",
   "execution_count": null,
   "id": "28276d52-c850-4b49-ab18-f096256b5a39",
   "metadata": {},
   "outputs": [],
   "source": [
    "spark.stop()"
   ]
  }
 ],
 "metadata": {
  "kernelspec": {
   "display_name": "Python 3 (ipykernel)",
   "language": "python",
   "name": "python3"
  },
  "language_info": {
   "codemirror_mode": {
    "name": "ipython",
    "version": 3
   },
   "file_extension": ".py",
   "mimetype": "text/x-python",
   "name": "python",
   "nbconvert_exporter": "python",
   "pygments_lexer": "ipython3",
   "version": "3.10.16"
  }
 },
 "nbformat": 4,
 "nbformat_minor": 5
}
