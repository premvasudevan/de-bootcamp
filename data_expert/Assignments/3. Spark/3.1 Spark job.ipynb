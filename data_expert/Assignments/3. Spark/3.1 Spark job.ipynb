{
 "cells": [
  {
   "cell_type": "code",
   "execution_count": 4,
   "id": "0b7bc6a5-8fcf-4cc7-aff6-e56054dd3f96",
   "metadata": {},
   "outputs": [],
   "source": [
    "from pyspark.sql import SparkSession\n",
    "from pyspark.sql import functions as f"
   ]
  },
  {
   "cell_type": "code",
   "execution_count": 5,
   "id": "4c1bcbd6-e097-4d4e-a052-9b13330d62f7",
   "metadata": {},
   "outputs": [
    {
     "name": "stderr",
     "output_type": "stream",
     "text": [
      "25/07/18 17:33:14 WARN SparkSession: Using an existing Spark session; only runtime SQL configurations will take effect.\n"
     ]
    }
   ],
   "source": [
    "spark = SparkSession.builder.appName(\"spark_hands_on\").getOrCreate()"
   ]
  },
  {
   "cell_type": "code",
   "execution_count": null,
   "id": "3dae062a-fb68-49c0-b857-6bdf18431288",
   "metadata": {},
   "outputs": [],
   "source": [
    "match_details = spark.read.format(\"csv\")\\\n",
    "                        .option(\"header\",\"true\")\\\n",
    "                        .option(\"inferschema\",\"true\")\\\n",
    "                        .load(\"file:/home/iceberg/data/match_details.csv\")"
   ]
  },
  {
   "cell_type": "code",
   "execution_count": null,
   "id": "71cdc14c-3109-4e22-917e-5ded58a53309",
   "metadata": {},
   "outputs": [],
   "source": [
    "match_details.show(5)"
   ]
  },
  {
   "cell_type": "code",
   "execution_count": null,
   "id": "ff4e26e8-e98b-46e3-94ff-233b4feec109",
   "metadata": {},
   "outputs": [],
   "source": [
    "matches = spark.read.format(\"csv\")\\\n",
    "                .option(\"header\", \"true\")\\\n",
    "                .option(\"inferschema\", \"true\")\\\n",
    "                .load(\"file:/home/iceberg/data/matches.csv\")"
   ]
  },
  {
   "cell_type": "code",
   "execution_count": null,
   "id": "576318e3-b5d2-428d-948b-fbca0c44180c",
   "metadata": {},
   "outputs": [],
   "source": [
    "medals_matches_players = spark.read.format(\"csv\")\\\n",
    "                .option(\"header\", \"true\")\\\n",
    "                .option(\"inferschema\", \"true\")\\\n",
    "                .load(\"file:/home/iceberg/data/medals_matches_players.csv\")"
   ]
  },
  {
   "cell_type": "code",
   "execution_count": null,
   "id": "6ae3dc45-89e6-4d26-8a62-abdbc10a6316",
   "metadata": {},
   "outputs": [],
   "source": [
    "medals = spark.read.format(\"csv\")\\\n",
    "                .option(\"header\", \"true\")\\\n",
    "                .option(\"inferschema\", \"true\")\\\n",
    "                .load(\"file:/home/iceberg/data/medals.csv\")"
   ]
  },
  {
   "cell_type": "code",
   "execution_count": null,
   "id": "f03101a3-0a84-4129-afbc-5461adb7cef9",
   "metadata": {},
   "outputs": [],
   "source": [
    "spark.conf.set(\"spark.sql.autoBroadcastJoinThreshold\", \"-1\")"
   ]
  },
  {
   "cell_type": "code",
   "execution_count": null,
   "id": "5250b5c1-455a-4e17-a75a-83e7ac8f59a9",
   "metadata": {},
   "outputs": [],
   "source": [
    "# spark.conf.get(\"spark.sql.autoBroadcastJoinThreshold\")"
   ]
  },
  {
   "cell_type": "code",
   "execution_count": null,
   "id": "9a86c3d4-a1ca-4dc8-b102-603e8aa96681",
   "metadata": {},
   "outputs": [],
   "source": [
    "maps = spark.read.format(\"csv\")\\\n",
    "                .option(\"header\", \"true\")\\\n",
    "                .option(\"inferschema\", \"true\")\\\n",
    "                .load(\"file:/home/iceberg/data/maps.csv\")"
   ]
  },
  {
   "cell_type": "code",
   "execution_count": null,
   "id": "972dfa03-7d0a-4e8c-9e26-56888acbd5c0",
   "metadata": {},
   "outputs": [],
   "source": [
    "f.broadcast(medals)\n",
    "f.broadcast(maps)"
   ]
  },
  {
   "cell_type": "code",
   "execution_count": null,
   "id": "1488efec-8b04-4dda-b0d8-9622a2ce08e0",
   "metadata": {},
   "outputs": [],
   "source": []
  },
  {
   "cell_type": "code",
   "execution_count": null,
   "id": "e24c3d16-697a-4a8c-b36b-dead3abdaea1",
   "metadata": {},
   "outputs": [],
   "source": []
  },
  {
   "cell_type": "code",
   "execution_count": null,
   "id": "0efa849f-3b4c-4af8-9ef7-4dc28b70a889",
   "metadata": {},
   "outputs": [],
   "source": []
  },
  {
   "cell_type": "code",
   "execution_count": null,
   "id": "45d045bb-cb5c-49d5-9306-5e5c2484c6d9",
   "metadata": {},
   "outputs": [],
   "source": []
  },
  {
   "cell_type": "code",
   "execution_count": null,
   "id": "a8096a32-64a5-4f61-a313-ade4dd25904c",
   "metadata": {},
   "outputs": [],
   "source": []
  },
  {
   "cell_type": "code",
   "execution_count": null,
   "id": "0cf1dd1d-863f-4f2b-9bce-6d6b1be16b32",
   "metadata": {},
   "outputs": [],
   "source": [
    "medals_matches_players.printSchema()"
   ]
  },
  {
   "cell_type": "code",
   "execution_count": null,
   "id": "b44851d9-48ef-4df6-ae0d-8873ff1ac2ad",
   "metadata": {},
   "outputs": [],
   "source": [
    "medals.join(f.broadcast(maps), \"mapid\")\n"
   ]
  },
  {
   "cell_type": "code",
   "execution_count": null,
   "id": "b15baa91-20fe-482e-be0e-f1ce6d7c409d",
   "metadata": {},
   "outputs": [],
   "source": []
  },
  {
   "cell_type": "code",
   "execution_count": null,
   "id": "93399964-4be0-4fe3-8e3a-ad21cb1698b8",
   "metadata": {},
   "outputs": [],
   "source": [
    "spark.sql(\"\"\"\n",
    "DROP TABLE IF EXISTS bootcamp.match_details_bucketed\n",
    "\"\"\")\n",
    "\n",
    "match_details_bucketed_DDL = \"\"\"\n",
    "CREATE TABLE IF NOT EXISTS bootcamp.match_details_bucketed (\n",
    "        match_id string,\n",
    "        player_gamertag string,\n",
    "        previous_spartan_rank integer,\n",
    "        spartan_rank integer,\n",
    "        previous_total_xp integer,\n",
    "        total_xp integer,\n",
    "        previous_csr_tier integer,\n",
    "        previous_csr_designation integer,\n",
    "        previous_csr integer,\n",
    "        previous_csr_percent_to_next_tier integer,\n",
    "        previous_csr_rank integer,\n",
    "        current_csr_tier integer,\n",
    "        current_csr_designation integer,\n",
    "        current_csr integer,\n",
    "        current_csr_percent_to_next_tier integer,\n",
    "        current_csr_rank integer,\n",
    "        player_rank_on_team integer,\n",
    "        player_finished boolean,\n",
    "        player_average_life string,\n",
    "        player_total_kills integer,\n",
    "        player_total_headshots integer,\n",
    "        player_total_weapon_damage double,\n",
    "        player_total_shots_landed integer,\n",
    "        player_total_melee_kills integer,\n",
    "        player_total_melee_damage double,\n",
    "        player_total_assassinations integer,\n",
    "        player_total_ground_pound_kills integer,\n",
    "        player_total_shoulder_bash_kills integer,\n",
    "        player_total_grenade_damage double,\n",
    "        player_total_power_weapon_damage double,\n",
    "        player_total_power_weapon_grabs integer,\n",
    "        player_total_deaths integer,\n",
    "        player_total_assists integer,\n",
    "        player_total_grenade_kills integer,\n",
    "        did_win integer,\n",
    "        team_id integer\n",
    ")\n",
    " USING iceberg\n",
    " PARTITIONED BY (bucket(16, match_id));\n",
    "\"\"\""
   ]
  },
  {
   "cell_type": "code",
   "execution_count": null,
   "id": "5dcd2c1d-4ff5-4f41-8687-8daff6edd4a0",
   "metadata": {},
   "outputs": [],
   "source": [
    "spark.sql(match_details_bucketed_DDL)"
   ]
  },
  {
   "cell_type": "code",
   "execution_count": null,
   "id": "82cf7cc1-6203-40eb-8fa1-77682b8c78c7",
   "metadata": {},
   "outputs": [],
   "source": [
    "match_details.write.mode(\"append\")\\\n",
    "                    .bucketBy(16, \"match_id\")\\\n",
    "                    .saveAsTable(\"bootcamp.match_details_bucketed\")"
   ]
  },
  {
   "cell_type": "code",
   "execution_count": null,
   "id": "8afc4d4d-4d76-4cbc-a512-c41ee665216b",
   "metadata": {},
   "outputs": [],
   "source": [
    "# %%sql\n",
    "# select * from bootcamp.match_details_bucketed.files"
   ]
  },
  {
   "cell_type": "code",
   "execution_count": null,
   "id": "fb1f2552-1ee9-4fd5-967e-248634574b96",
   "metadata": {},
   "outputs": [],
   "source": [
    "spark.sql(\"\"\"DROP TABLE IF EXISTS bootcamp.matches_bucketed\"\"\")\n",
    "\n",
    "matches_bucketed_ddl = \"\"\"\n",
    "CREATE TABLE IF NOT EXISTS bootcamp.matches_bucketed (\n",
    "        match_id string ,\n",
    "        mapid string ,\n",
    "        is_team_game boolean ,\n",
    "        playlist_id string ,\n",
    "        game_variant_id string ,\n",
    "        is_match_over boolean ,\n",
    "        completion_date timestamp ,\n",
    "        match_duration string ,\n",
    "        game_mode string ,\n",
    "        map_variant_id string\n",
    ")\n",
    "USING iceberg\n",
    "PARTITIONED BY(bucket(16, match_id));\n",
    "\"\"\""
   ]
  },
  {
   "cell_type": "code",
   "execution_count": null,
   "id": "9bb39306-e1ea-4ca5-9cfe-1dc0ca80e582",
   "metadata": {},
   "outputs": [],
   "source": [
    "spark.sql(matches_bucketed_ddl)"
   ]
  },
  {
   "cell_type": "code",
   "execution_count": null,
   "id": "ac01f07c-4d68-40b2-b85b-b720d43128f5",
   "metadata": {},
   "outputs": [],
   "source": [
    "matches.write.mode(\"append\")\\\n",
    "                .bucketBy(16, \"match_id\")\\\n",
    "                .saveAsTable(\"bootcamp.matches_bucketed\")"
   ]
  },
  {
   "cell_type": "code",
   "execution_count": null,
   "id": "a3097a50-c53e-4725-80f5-32afde757de8",
   "metadata": {},
   "outputs": [],
   "source": [
    "spark.sql(\"\"\"DROP TABLE IF EXISTS bootcamp.medal_matches_players_bucketed\"\"\")\n",
    "\n",
    "medal_matches_players_bucketed_ddl = \"\"\"\n",
    "CREATE TABLE IF NOT EXISTS bootcamp.medal_matches_players_bucketed (\n",
    "        match_id string ,\n",
    "        player_gamertag string ,\n",
    "        medal_id long ,\n",
    "        count integer \n",
    ")\n",
    "USING iceberg\n",
    "PARTITIONED BY(bucket(16, match_id));\n",
    "\n",
    "\"\"\""
   ]
  },
  {
   "cell_type": "code",
   "execution_count": null,
   "id": "cb9f571b-471e-429a-bbb1-54cb30c7e3d9",
   "metadata": {},
   "outputs": [],
   "source": [
    "spark.sql(medal_matches_players_bucketed_ddl)"
   ]
  },
  {
   "cell_type": "code",
   "execution_count": null,
   "id": "feb682c9-3bdf-4694-ad03-c77259aff51b",
   "metadata": {},
   "outputs": [],
   "source": [
    "medals_matches_players.write.mode(\"append\")\\\n",
    "                        .bucketBy(16, \"match_id\")\\\n",
    "                        .saveAsTable(\"bootcamp.medal_matches_players_bucketed\")"
   ]
  },
  {
   "cell_type": "code",
   "execution_count": 6,
   "id": "f7e00f84-6fbe-4554-b0c0-cb8db3cf6713",
   "metadata": {},
   "outputs": [],
   "source": [
    "\n",
    "# Read the bucketed tables\n",
    "bucketed_md = spark.table(\"bootcamp.match_details_bucketed\")\n",
    "bucketed_m = spark.table(\"bootcamp.matches_bucketed\")\n",
    "bucketed_mmp = spark.table(\"bootcamp.medal_matches_players_bucketed\")\n"
   ]
  },
  {
   "cell_type": "code",
   "execution_count": 7,
   "id": "7b7075bc-05e5-4d7a-8ea5-5bac9ebbfaf5",
   "metadata": {},
   "outputs": [],
   "source": [
    "joined_df = bucketed_m.join(bucketed_md, \"match_id\")\\\n",
    "                        .join(bucketed_mmp, \"match_id\")"
   ]
  },
  {
   "cell_type": "code",
   "execution_count": null,
   "id": "a5558a63-9c79-44f1-8f12-26e571bc4a26",
   "metadata": {},
   "outputs": [],
   "source": [
    "joined_df.show(5)"
   ]
  },
  {
   "cell_type": "code",
   "execution_count": null,
   "id": "7fba6dd4-01be-4ae3-a327-bece7d4ca03c",
   "metadata": {},
   "outputs": [],
   "source": [
    "#  Which player averages the most kills per game?\n",
    "joined_df.groupby(\"match_details_bucketed.player_gamertag\")\\\n",
    "    .agg(f.avg(\"match_details_bucketed.player_total_kills\").alias(\"avg_kill\"))\\\n",
    "    .select(\"match_details_bucketed.player_gamertag\",\"avg_kill\")\\\n",
    "    .sort(\"avg_kill\", ascending=False)\\\n",
    "    .show(1)"
   ]
  },
  {
   "cell_type": "code",
   "execution_count": null,
   "id": "5bb8fe6f-61c4-4041-9ded-afe09f6e4ee6",
   "metadata": {},
   "outputs": [],
   "source": [
    "#  Which playlist gets played the most?\n",
    "\n",
    "joined_df.groupby(\"matches_bucketed.playlist_id\")\\\n",
    "            .agg(f.count(\"matches_bucketed.playlist_id\").alias(\"total_plays\"))\\\n",
    "            .sort(\"total_plays\", ascending = False)\\\n",
    "            .select(\"matches_bucketed.playlist_id\", \"total_plays\")\\\n",
    "            .show(5)"
   ]
  },
  {
   "cell_type": "code",
   "execution_count": null,
   "id": "8d5584bd-1ca3-451b-a964-a75ec16648aa",
   "metadata": {},
   "outputs": [],
   "source": [
    "#  Which map gets played the most?\n",
    "\n",
    "bucketed_m.join(maps, \"mapid\")\\\n",
    "    .groupby(\"demo.bootcamp.matches_bucketed.mapid\")\\\n",
    "    .agg(f.count(\"demo.bootcamp.matches_bucketed.mapid\").alias(\"total_plays\"))\\\n",
    "    .sort(\"total_plays\", ascending = False)\\\n",
    "    .select(\"demo.bootcamp.matches_bucketed.mapid\", \"total_plays\")\\\n",
    "    .show(5)"
   ]
  },
  {
   "cell_type": "code",
   "execution_count": null,
   "id": "063a21ba-3efd-4292-9e3e-d3497bb4349c",
   "metadata": {},
   "outputs": [],
   "source": [
    "# Which map do players get the most Killing Spree medals on?\n",
    "\n",
    "bucketed_mmp.join(medals, \"medal_id\")\\\n",
    "        .join(bucketed_m, \"match_id\")\\\n",
    "        .where(medals.name == \"Killing Spree\")\\\n",
    "        .groupby(\"mapid\")\\\n",
    "        .agg(f.sum(\"count\").alias(\"total_killing_spree_medals\"))\\\n",
    "        .sort(\"total_killing_spree_medals\", ascending = False)\\\n",
    "        .select(\"mapid\",\"total_killing_spree_medals\")\\\n",
    "        .show(5)\n"
   ]
  },
  {
   "cell_type": "code",
   "execution_count": 8,
   "id": "6cf1f820-22c3-45eb-b813-ebab88b296ef",
   "metadata": {},
   "outputs": [],
   "source": [
    "agg_df = joined_df\\\n",
    "            .groupby(\"match_id\",\"mapid\",\"playlist_id\",\"match_details_bucketed.player_gamertag\",\"medal_id\")\\\n",
    "            .agg(f.sum(\"player_total_kills\").alias(\"total_kills\"), f.sum(\"count\").alias(\"total_medals\"))\\\n",
    "            .select(\"match_id\",\"mapid\",\"playlist_id\",\"match_details_bucketed.player_gamertag\",\"medal_id\", \"total_kills\", \"total_medals\")\n",
    "            "
   ]
  },
  {
   "cell_type": "code",
   "execution_count": 9,
   "id": "54acab6e-d87c-4ca5-8c6c-82b87971e98e",
   "metadata": {},
   "outputs": [
    {
     "name": "stderr",
     "output_type": "stream",
     "text": [
      "25/07/18 17:34:14 WARN RowBasedKeyValueBatch: Calling spill() on RowBasedKeyValueBatch. Will not spill but return 0.\n",
      "25/07/18 17:34:14 WARN RowBasedKeyValueBatch: Calling spill() on RowBasedKeyValueBatch. Will not spill but return 0.\n",
      "25/07/18 17:34:14 WARN RowBasedKeyValueBatch: Calling spill() on RowBasedKeyValueBatch. Will not spill but return 0.\n",
      "25/07/18 17:34:14 WARN RowBasedKeyValueBatch: Calling spill() on RowBasedKeyValueBatch. Will not spill but return 0.\n",
      "25/07/18 17:34:14 WARN RowBasedKeyValueBatch: Calling spill() on RowBasedKeyValueBatch. Will not spill but return 0.\n",
      "25/07/18 17:34:14 WARN RowBasedKeyValueBatch: Calling spill() on RowBasedKeyValueBatch. Will not spill but return 0.\n",
      "25/07/18 17:34:14 WARN RowBasedKeyValueBatch: Calling spill() on RowBasedKeyValueBatch. Will not spill but return 0.\n",
      "25/07/18 17:34:14 WARN RowBasedKeyValueBatch: Calling spill() on RowBasedKeyValueBatch. Will not spill but return 0.\n",
      "25/07/18 17:34:14 WARN RowBasedKeyValueBatch: Calling spill() on RowBasedKeyValueBatch. Will not spill but return 0.\n",
      "25/07/18 17:34:14 WARN RowBasedKeyValueBatch: Calling spill() on RowBasedKeyValueBatch. Will not spill but return 0.\n",
      "25/07/18 17:34:14 WARN RowBasedKeyValueBatch: Calling spill() on RowBasedKeyValueBatch. Will not spill but return 0.\n",
      "25/07/18 17:34:14 WARN RowBasedKeyValueBatch: Calling spill() on RowBasedKeyValueBatch. Will not spill but return 0.\n",
      "25/07/18 17:34:14 WARN RowBasedKeyValueBatch: Calling spill() on RowBasedKeyValueBatch. Will not spill but return 0.\n",
      "25/07/18 17:34:14 WARN RowBasedKeyValueBatch: Calling spill() on RowBasedKeyValueBatch. Will not spill but return 0.\n",
      "25/07/18 17:34:14 WARN RowBasedKeyValueBatch: Calling spill() on RowBasedKeyValueBatch. Will not spill but return 0.\n",
      "25/07/18 17:34:14 WARN RowBasedKeyValueBatch: Calling spill() on RowBasedKeyValueBatch. Will not spill but return 0.\n",
      "25/07/18 17:34:14 WARN RowBasedKeyValueBatch: Calling spill() on RowBasedKeyValueBatch. Will not spill but return 0.\n",
      "25/07/18 17:34:14 WARN RowBasedKeyValueBatch: Calling spill() on RowBasedKeyValueBatch. Will not spill but return 0.\n",
      "25/07/18 17:34:14 WARN RowBasedKeyValueBatch: Calling spill() on RowBasedKeyValueBatch. Will not spill but return 0.\n",
      "25/07/18 17:34:14 WARN RowBasedKeyValueBatch: Calling spill() on RowBasedKeyValueBatch. Will not spill but return 0.\n",
      "25/07/18 17:34:14 WARN RowBasedKeyValueBatch: Calling spill() on RowBasedKeyValueBatch. Will not spill but return 0.\n",
      "25/07/18 17:34:14 WARN RowBasedKeyValueBatch: Calling spill() on RowBasedKeyValueBatch. Will not spill but return 0.\n",
      "25/07/18 17:34:14 WARN RowBasedKeyValueBatch: Calling spill() on RowBasedKeyValueBatch. Will not spill but return 0.\n",
      "25/07/18 17:34:14 WARN RowBasedKeyValueBatch: Calling spill() on RowBasedKeyValueBatch. Will not spill but return 0.\n",
      "25/07/18 17:34:14 WARN RowBasedKeyValueBatch: Calling spill() on RowBasedKeyValueBatch. Will not spill but return 0.\n",
      "25/07/18 17:34:14 WARN RowBasedKeyValueBatch: Calling spill() on RowBasedKeyValueBatch. Will not spill but return 0.\n",
      "25/07/18 17:34:14 WARN RowBasedKeyValueBatch: Calling spill() on RowBasedKeyValueBatch. Will not spill but return 0.\n",
      "25/07/18 17:34:14 WARN RowBasedKeyValueBatch: Calling spill() on RowBasedKeyValueBatch. Will not spill but return 0.\n",
      "25/07/18 17:34:14 WARN RowBasedKeyValueBatch: Calling spill() on RowBasedKeyValueBatch. Will not spill but return 0.\n",
      "25/07/18 17:34:14 WARN RowBasedKeyValueBatch: Calling spill() on RowBasedKeyValueBatch. Will not spill but return 0.\n",
      "25/07/18 17:34:14 WARN RowBasedKeyValueBatch: Calling spill() on RowBasedKeyValueBatch. Will not spill but return 0.\n",
      "25/07/18 17:34:14 WARN RowBasedKeyValueBatch: Calling spill() on RowBasedKeyValueBatch. Will not spill but return 0.\n",
      "25/07/18 17:34:14 WARN RowBasedKeyValueBatch: Calling spill() on RowBasedKeyValueBatch. Will not spill but return 0.\n",
      "25/07/18 17:34:14 WARN RowBasedKeyValueBatch: Calling spill() on RowBasedKeyValueBatch. Will not spill but return 0.\n",
      "25/07/18 17:34:14 WARN RowBasedKeyValueBatch: Calling spill() on RowBasedKeyValueBatch. Will not spill but return 0.\n",
      "25/07/18 17:34:14 WARN RowBasedKeyValueBatch: Calling spill() on RowBasedKeyValueBatch. Will not spill but return 0.\n",
      "25/07/18 17:34:14 WARN RowBasedKeyValueBatch: Calling spill() on RowBasedKeyValueBatch. Will not spill but return 0.\n",
      "25/07/18 17:34:14 WARN RowBasedKeyValueBatch: Calling spill() on RowBasedKeyValueBatch. Will not spill but return 0.\n",
      "25/07/18 17:34:14 WARN RowBasedKeyValueBatch: Calling spill() on RowBasedKeyValueBatch. Will not spill but return 0.\n",
      "25/07/18 17:34:14 WARN RowBasedKeyValueBatch: Calling spill() on RowBasedKeyValueBatch. Will not spill but return 0.\n",
      "25/07/18 17:34:15 WARN RowBasedKeyValueBatch: Calling spill() on RowBasedKeyValueBatch. Will not spill but return 0.\n",
      "25/07/18 17:34:15 WARN RowBasedKeyValueBatch: Calling spill() on RowBasedKeyValueBatch. Will not spill but return 0.\n",
      "25/07/18 17:34:15 WARN RowBasedKeyValueBatch: Calling spill() on RowBasedKeyValueBatch. Will not spill but return 0.\n",
      "25/07/18 17:34:15 WARN RowBasedKeyValueBatch: Calling spill() on RowBasedKeyValueBatch. Will not spill but return 0.\n",
      "25/07/18 17:34:15 WARN RowBasedKeyValueBatch: Calling spill() on RowBasedKeyValueBatch. Will not spill but return 0.\n",
      "25/07/18 17:34:15 WARN RowBasedKeyValueBatch: Calling spill() on RowBasedKeyValueBatch. Will not spill but return 0.\n",
      "25/07/18 17:34:15 WARN RowBasedKeyValueBatch: Calling spill() on RowBasedKeyValueBatch. Will not spill but return 0.\n",
      "25/07/18 17:34:15 WARN RowBasedKeyValueBatch: Calling spill() on RowBasedKeyValueBatch. Will not spill but return 0.\n",
      "25/07/18 17:34:24 WARN RowBasedKeyValueBatch: Calling spill() on RowBasedKeyValueBatch. Will not spill but return 0.\n",
      "25/07/18 17:34:24 WARN RowBasedKeyValueBatch: Calling spill() on RowBasedKeyValueBatch. Will not spill but return 0.\n",
      "25/07/18 17:34:24 WARN RowBasedKeyValueBatch: Calling spill() on RowBasedKeyValueBatch. Will not spill but return 0.\n",
      "25/07/18 17:34:24 WARN RowBasedKeyValueBatch: Calling spill() on RowBasedKeyValueBatch. Will not spill but return 0.\n",
      "25/07/18 17:34:24 WARN RowBasedKeyValueBatch: Calling spill() on RowBasedKeyValueBatch. Will not spill but return 0.\n",
      "25/07/18 17:34:24 WARN RowBasedKeyValueBatch: Calling spill() on RowBasedKeyValueBatch. Will not spill but return 0.\n",
      "25/07/18 17:34:24 WARN RowBasedKeyValueBatch: Calling spill() on RowBasedKeyValueBatch. Will not spill but return 0.\n",
      "25/07/18 17:34:25 WARN RowBasedKeyValueBatch: Calling spill() on RowBasedKeyValueBatch. Will not spill but return 0.\n",
      "25/07/18 17:34:25 WARN RowBasedKeyValueBatch: Calling spill() on RowBasedKeyValueBatch. Will not spill but return 0.\n",
      "25/07/18 17:34:25 WARN RowBasedKeyValueBatch: Calling spill() on RowBasedKeyValueBatch. Will not spill but return 0.\n",
      "25/07/18 17:34:25 WARN RowBasedKeyValueBatch: Calling spill() on RowBasedKeyValueBatch. Will not spill but return 0.\n",
      "25/07/18 17:34:25 WARN RowBasedKeyValueBatch: Calling spill() on RowBasedKeyValueBatch. Will not spill but return 0.\n",
      "25/07/18 17:34:25 WARN RowBasedKeyValueBatch: Calling spill() on RowBasedKeyValueBatch. Will not spill but return 0.\n",
      "25/07/18 17:34:25 WARN RowBasedKeyValueBatch: Calling spill() on RowBasedKeyValueBatch. Will not spill but return 0.\n",
      "25/07/18 17:34:25 WARN RowBasedKeyValueBatch: Calling spill() on RowBasedKeyValueBatch. Will not spill but return 0.\n",
      "25/07/18 17:34:25 WARN RowBasedKeyValueBatch: Calling spill() on RowBasedKeyValueBatch. Will not spill but return 0.\n",
      "[Stage 16:>                                                         (0 + 2) / 2]"
     ]
    },
    {
     "name": "stdout",
     "output_type": "stream",
     "text": [
      "+---------------+------------------+\n",
      "|player_gamertag|         avg_kills|\n",
      "+---------------+------------------+\n",
      "|   gimpinator14| 421.1363636363636|\n",
      "|  I Johann117 I|             384.0|\n",
      "|BudgetLegendary| 375.4761904761905|\n",
      "|   Sexy is Back| 295.3181818181818|\n",
      "|PrimePromethean|289.82608695652175|\n",
      "+---------------+------------------+\n",
      "only showing top 5 rows\n",
      "\n"
     ]
    },
    {
     "name": "stderr",
     "output_type": "stream",
     "text": [
      "                                                                                "
     ]
    }
   ],
   "source": [
    "# Which player averages the most kills per game?\n",
    "agg_df.groupby(\"player_gamertag\").agg(f.avg(\"total_kills\").alias(\"avg_kills\")).sort(\"avg_kills\", ascending = False).show(5)"
   ]
  },
  {
   "cell_type": "code",
   "execution_count": null,
   "id": "03d9b956-4410-40b2-8ee5-5d3fef6beb8c",
   "metadata": {},
   "outputs": [],
   "source": []
  },
  {
   "cell_type": "code",
   "execution_count": 11,
   "id": "a537837c-46cf-46ad-a013-f08c2641b7e7",
   "metadata": {},
   "outputs": [
    {
     "name": "stderr",
     "output_type": "stream",
     "text": [
      "25/07/18 17:37:27 WARN RowBasedKeyValueBatch: Calling spill() on RowBasedKeyValueBatch. Will not spill but return 0.\n",
      "25/07/18 17:37:27 WARN RowBasedKeyValueBatch: Calling spill() on RowBasedKeyValueBatch. Will not spill but return 0.\n",
      "25/07/18 17:37:27 WARN RowBasedKeyValueBatch: Calling spill() on RowBasedKeyValueBatch. Will not spill but return 0.\n",
      "25/07/18 17:37:27 WARN RowBasedKeyValueBatch: Calling spill() on RowBasedKeyValueBatch. Will not spill but return 0.\n",
      "25/07/18 17:37:27 WARN RowBasedKeyValueBatch: Calling spill() on RowBasedKeyValueBatch. Will not spill but return 0.\n",
      "25/07/18 17:37:27 WARN RowBasedKeyValueBatch: Calling spill() on RowBasedKeyValueBatch. Will not spill but return 0.\n",
      "25/07/18 17:37:27 WARN RowBasedKeyValueBatch: Calling spill() on RowBasedKeyValueBatch. Will not spill but return 0.\n",
      "25/07/18 17:37:27 WARN RowBasedKeyValueBatch: Calling spill() on RowBasedKeyValueBatch. Will not spill but return 0.\n",
      "25/07/18 17:37:27 WARN RowBasedKeyValueBatch: Calling spill() on RowBasedKeyValueBatch. Will not spill but return 0.\n",
      "25/07/18 17:37:27 WARN RowBasedKeyValueBatch: Calling spill() on RowBasedKeyValueBatch. Will not spill but return 0.\n",
      "25/07/18 17:37:27 WARN RowBasedKeyValueBatch: Calling spill() on RowBasedKeyValueBatch. Will not spill but return 0.\n",
      "25/07/18 17:37:27 WARN RowBasedKeyValueBatch: Calling spill() on RowBasedKeyValueBatch. Will not spill but return 0.\n",
      "25/07/18 17:37:27 WARN RowBasedKeyValueBatch: Calling spill() on RowBasedKeyValueBatch. Will not spill but return 0.\n",
      "25/07/18 17:37:27 WARN RowBasedKeyValueBatch: Calling spill() on RowBasedKeyValueBatch. Will not spill but return 0.\n",
      "25/07/18 17:37:27 WARN RowBasedKeyValueBatch: Calling spill() on RowBasedKeyValueBatch. Will not spill but return 0.\n",
      "25/07/18 17:37:27 WARN RowBasedKeyValueBatch: Calling spill() on RowBasedKeyValueBatch. Will not spill but return 0.\n",
      "25/07/18 17:37:27 WARN RowBasedKeyValueBatch: Calling spill() on RowBasedKeyValueBatch. Will not spill but return 0.\n",
      "25/07/18 17:37:27 WARN RowBasedKeyValueBatch: Calling spill() on RowBasedKeyValueBatch. Will not spill but return 0.\n",
      "25/07/18 17:37:27 WARN RowBasedKeyValueBatch: Calling spill() on RowBasedKeyValueBatch. Will not spill but return 0.\n",
      "25/07/18 17:37:27 WARN RowBasedKeyValueBatch: Calling spill() on RowBasedKeyValueBatch. Will not spill but return 0.\n",
      "25/07/18 17:37:27 WARN RowBasedKeyValueBatch: Calling spill() on RowBasedKeyValueBatch. Will not spill but return 0.\n",
      "25/07/18 17:37:27 WARN RowBasedKeyValueBatch: Calling spill() on RowBasedKeyValueBatch. Will not spill but return 0.\n",
      "25/07/18 17:37:27 WARN RowBasedKeyValueBatch: Calling spill() on RowBasedKeyValueBatch. Will not spill but return 0.\n",
      "25/07/18 17:37:27 WARN RowBasedKeyValueBatch: Calling spill() on RowBasedKeyValueBatch. Will not spill but return 0.\n",
      "25/07/18 17:37:27 WARN RowBasedKeyValueBatch: Calling spill() on RowBasedKeyValueBatch. Will not spill but return 0.\n",
      "25/07/18 17:37:27 WARN RowBasedKeyValueBatch: Calling spill() on RowBasedKeyValueBatch. Will not spill but return 0.\n",
      "25/07/18 17:37:27 WARN RowBasedKeyValueBatch: Calling spill() on RowBasedKeyValueBatch. Will not spill but return 0.\n",
      "25/07/18 17:37:27 WARN RowBasedKeyValueBatch: Calling spill() on RowBasedKeyValueBatch. Will not spill but return 0.\n",
      "25/07/18 17:37:27 WARN RowBasedKeyValueBatch: Calling spill() on RowBasedKeyValueBatch. Will not spill but return 0.\n",
      "25/07/18 17:37:27 WARN RowBasedKeyValueBatch: Calling spill() on RowBasedKeyValueBatch. Will not spill but return 0.\n",
      "25/07/18 17:37:27 WARN RowBasedKeyValueBatch: Calling spill() on RowBasedKeyValueBatch. Will not spill but return 0.\n",
      "25/07/18 17:37:27 WARN RowBasedKeyValueBatch: Calling spill() on RowBasedKeyValueBatch. Will not spill but return 0.\n",
      "25/07/18 17:37:27 WARN RowBasedKeyValueBatch: Calling spill() on RowBasedKeyValueBatch. Will not spill but return 0.\n",
      "25/07/18 17:37:27 WARN RowBasedKeyValueBatch: Calling spill() on RowBasedKeyValueBatch. Will not spill but return 0.\n",
      "25/07/18 17:37:27 WARN RowBasedKeyValueBatch: Calling spill() on RowBasedKeyValueBatch. Will not spill but return 0.\n",
      "25/07/18 17:37:27 WARN RowBasedKeyValueBatch: Calling spill() on RowBasedKeyValueBatch. Will not spill but return 0.\n",
      "25/07/18 17:37:27 WARN RowBasedKeyValueBatch: Calling spill() on RowBasedKeyValueBatch. Will not spill but return 0.\n",
      "25/07/18 17:37:27 WARN RowBasedKeyValueBatch: Calling spill() on RowBasedKeyValueBatch. Will not spill but return 0.\n",
      "25/07/18 17:37:27 WARN RowBasedKeyValueBatch: Calling spill() on RowBasedKeyValueBatch. Will not spill but return 0.\n",
      "25/07/18 17:37:27 WARN RowBasedKeyValueBatch: Calling spill() on RowBasedKeyValueBatch. Will not spill but return 0.\n",
      "25/07/18 17:37:27 WARN RowBasedKeyValueBatch: Calling spill() on RowBasedKeyValueBatch. Will not spill but return 0.\n",
      "25/07/18 17:37:27 WARN RowBasedKeyValueBatch: Calling spill() on RowBasedKeyValueBatch. Will not spill but return 0.\n",
      "25/07/18 17:37:27 WARN RowBasedKeyValueBatch: Calling spill() on RowBasedKeyValueBatch. Will not spill but return 0.\n",
      "25/07/18 17:37:27 WARN RowBasedKeyValueBatch: Calling spill() on RowBasedKeyValueBatch. Will not spill but return 0.\n",
      "25/07/18 17:37:27 WARN RowBasedKeyValueBatch: Calling spill() on RowBasedKeyValueBatch. Will not spill but return 0.\n",
      "25/07/18 17:37:27 WARN RowBasedKeyValueBatch: Calling spill() on RowBasedKeyValueBatch. Will not spill but return 0.\n",
      "25/07/18 17:37:27 WARN RowBasedKeyValueBatch: Calling spill() on RowBasedKeyValueBatch. Will not spill but return 0.\n",
      "25/07/18 17:37:27 WARN RowBasedKeyValueBatch: Calling spill() on RowBasedKeyValueBatch. Will not spill but return 0.\n",
      "25/07/18 17:37:27 WARN RowBasedKeyValueBatch: Calling spill() on RowBasedKeyValueBatch. Will not spill but return 0.\n",
      "25/07/18 17:37:27 WARN RowBasedKeyValueBatch: Calling spill() on RowBasedKeyValueBatch. Will not spill but return 0.\n",
      "25/07/18 17:37:27 WARN RowBasedKeyValueBatch: Calling spill() on RowBasedKeyValueBatch. Will not spill but return 0.\n",
      "25/07/18 17:37:27 WARN RowBasedKeyValueBatch: Calling spill() on RowBasedKeyValueBatch. Will not spill but return 0.\n",
      "25/07/18 17:37:27 WARN RowBasedKeyValueBatch: Calling spill() on RowBasedKeyValueBatch. Will not spill but return 0.\n",
      "25/07/18 17:37:27 WARN RowBasedKeyValueBatch: Calling spill() on RowBasedKeyValueBatch. Will not spill but return 0.\n",
      "25/07/18 17:37:27 WARN RowBasedKeyValueBatch: Calling spill() on RowBasedKeyValueBatch. Will not spill but return 0.\n",
      "25/07/18 17:37:27 WARN RowBasedKeyValueBatch: Calling spill() on RowBasedKeyValueBatch. Will not spill but return 0.\n",
      "25/07/18 17:37:27 WARN RowBasedKeyValueBatch: Calling spill() on RowBasedKeyValueBatch. Will not spill but return 0.\n",
      "25/07/18 17:37:27 WARN RowBasedKeyValueBatch: Calling spill() on RowBasedKeyValueBatch. Will not spill but return 0.\n",
      "25/07/18 17:37:27 WARN RowBasedKeyValueBatch: Calling spill() on RowBasedKeyValueBatch. Will not spill but return 0.\n",
      "25/07/18 17:37:27 WARN RowBasedKeyValueBatch: Calling spill() on RowBasedKeyValueBatch. Will not spill but return 0.\n",
      "25/07/18 17:37:27 WARN RowBasedKeyValueBatch: Calling spill() on RowBasedKeyValueBatch. Will not spill but return 0.\n",
      "25/07/18 17:37:27 WARN RowBasedKeyValueBatch: Calling spill() on RowBasedKeyValueBatch. Will not spill but return 0.\n",
      "25/07/18 17:37:27 WARN RowBasedKeyValueBatch: Calling spill() on RowBasedKeyValueBatch. Will not spill but return 0.\n",
      "25/07/18 17:37:27 WARN RowBasedKeyValueBatch: Calling spill() on RowBasedKeyValueBatch. Will not spill but return 0.\n",
      "25/07/18 17:37:27 WARN RowBasedKeyValueBatch: Calling spill() on RowBasedKeyValueBatch. Will not spill but return 0.\n",
      "25/07/18 17:37:27 WARN RowBasedKeyValueBatch: Calling spill() on RowBasedKeyValueBatch. Will not spill but return 0.\n",
      "25/07/18 17:37:27 WARN RowBasedKeyValueBatch: Calling spill() on RowBasedKeyValueBatch. Will not spill but return 0.\n",
      "25/07/18 17:37:27 WARN RowBasedKeyValueBatch: Calling spill() on RowBasedKeyValueBatch. Will not spill but return 0.\n",
      "25/07/18 17:37:27 WARN RowBasedKeyValueBatch: Calling spill() on RowBasedKeyValueBatch. Will not spill but return 0.\n",
      "25/07/18 17:37:27 WARN RowBasedKeyValueBatch: Calling spill() on RowBasedKeyValueBatch. Will not spill but return 0.\n",
      "25/07/18 17:37:27 WARN RowBasedKeyValueBatch: Calling spill() on RowBasedKeyValueBatch. Will not spill but return 0.\n",
      "25/07/18 17:37:27 WARN RowBasedKeyValueBatch: Calling spill() on RowBasedKeyValueBatch. Will not spill but return 0.\n",
      "25/07/18 17:37:33 WARN RowBasedKeyValueBatch: Calling spill() on RowBasedKeyValueBatch. Will not spill but return 0.\n",
      "25/07/18 17:37:33 WARN RowBasedKeyValueBatch: Calling spill() on RowBasedKeyValueBatch. Will not spill but return 0.\n",
      "25/07/18 17:37:33 WARN RowBasedKeyValueBatch: Calling spill() on RowBasedKeyValueBatch. Will not spill but return 0.\n",
      "25/07/18 17:37:33 WARN RowBasedKeyValueBatch: Calling spill() on RowBasedKeyValueBatch. Will not spill but return 0.\n",
      "25/07/18 17:37:33 WARN RowBasedKeyValueBatch: Calling spill() on RowBasedKeyValueBatch. Will not spill but return 0.\n",
      "25/07/18 17:37:33 WARN RowBasedKeyValueBatch: Calling spill() on RowBasedKeyValueBatch. Will not spill but return 0.\n",
      "25/07/18 17:37:33 WARN RowBasedKeyValueBatch: Calling spill() on RowBasedKeyValueBatch. Will not spill but return 0.\n",
      "25/07/18 17:37:33 WARN RowBasedKeyValueBatch: Calling spill() on RowBasedKeyValueBatch. Will not spill but return 0.\n",
      "25/07/18 17:37:33 WARN RowBasedKeyValueBatch: Calling spill() on RowBasedKeyValueBatch. Will not spill but return 0.\n",
      "25/07/18 17:37:33 WARN RowBasedKeyValueBatch: Calling spill() on RowBasedKeyValueBatch. Will not spill but return 0.\n",
      "25/07/18 17:37:33 WARN RowBasedKeyValueBatch: Calling spill() on RowBasedKeyValueBatch. Will not spill but return 0.\n",
      "25/07/18 17:37:33 WARN RowBasedKeyValueBatch: Calling spill() on RowBasedKeyValueBatch. Will not spill but return 0.\n",
      "25/07/18 17:37:33 WARN RowBasedKeyValueBatch: Calling spill() on RowBasedKeyValueBatch. Will not spill but return 0.\n",
      "25/07/18 17:37:33 WARN RowBasedKeyValueBatch: Calling spill() on RowBasedKeyValueBatch. Will not spill but return 0.\n",
      "25/07/18 17:37:33 WARN RowBasedKeyValueBatch: Calling spill() on RowBasedKeyValueBatch. Will not spill but return 0.\n",
      "25/07/18 17:37:33 WARN RowBasedKeyValueBatch: Calling spill() on RowBasedKeyValueBatch. Will not spill but return 0.\n",
      "25/07/18 17:37:33 WARN RowBasedKeyValueBatch: Calling spill() on RowBasedKeyValueBatch. Will not spill but return 0.\n",
      "25/07/18 17:37:33 WARN RowBasedKeyValueBatch: Calling spill() on RowBasedKeyValueBatch. Will not spill but return 0.\n",
      "25/07/18 17:37:33 WARN RowBasedKeyValueBatch: Calling spill() on RowBasedKeyValueBatch. Will not spill but return 0.\n",
      "25/07/18 17:37:33 WARN RowBasedKeyValueBatch: Calling spill() on RowBasedKeyValueBatch. Will not spill but return 0.\n",
      "25/07/18 17:37:33 WARN RowBasedKeyValueBatch: Calling spill() on RowBasedKeyValueBatch. Will not spill but return 0.\n",
      "25/07/18 17:37:33 WARN RowBasedKeyValueBatch: Calling spill() on RowBasedKeyValueBatch. Will not spill but return 0.\n",
      "25/07/18 17:37:33 WARN RowBasedKeyValueBatch: Calling spill() on RowBasedKeyValueBatch. Will not spill but return 0.\n",
      "25/07/18 17:37:33 WARN RowBasedKeyValueBatch: Calling spill() on RowBasedKeyValueBatch. Will not spill but return 0.\n",
      "25/07/18 17:37:33 WARN RowBasedKeyValueBatch: Calling spill() on RowBasedKeyValueBatch. Will not spill but return 0.\n",
      "25/07/18 17:37:33 WARN RowBasedKeyValueBatch: Calling spill() on RowBasedKeyValueBatch. Will not spill but return 0.\n",
      "25/07/18 17:37:33 WARN RowBasedKeyValueBatch: Calling spill() on RowBasedKeyValueBatch. Will not spill but return 0.\n",
      "25/07/18 17:37:33 WARN RowBasedKeyValueBatch: Calling spill() on RowBasedKeyValueBatch. Will not spill but return 0.\n",
      "25/07/18 17:37:34 WARN RowBasedKeyValueBatch: Calling spill() on RowBasedKeyValueBatch. Will not spill but return 0.\n",
      "25/07/18 17:37:34 WARN RowBasedKeyValueBatch: Calling spill() on RowBasedKeyValueBatch. Will not spill but return 0.\n",
      "25/07/18 17:37:34 WARN RowBasedKeyValueBatch: Calling spill() on RowBasedKeyValueBatch. Will not spill but return 0.\n",
      "25/07/18 17:37:34 WARN RowBasedKeyValueBatch: Calling spill() on RowBasedKeyValueBatch. Will not spill but return 0.\n",
      "[Stage 32:=======>                                                  (1 + 7) / 8]"
     ]
    },
    {
     "name": "stdout",
     "output_type": "stream",
     "text": [
      "+--------------------+-----------+\n",
      "|         playlist_id|total_plays|\n",
      "+--------------------+-----------+\n",
      "|f72e0ef0-7c4a-430...|     818439|\n",
      "|c98949ae-60a8-43d...|     311148|\n",
      "|780cc101-005c-4fc...|     302572|\n",
      "|0bcf2be1-3168-4e4...|     302052|\n",
      "|892189e9-d712-4bd...|     288989|\n",
      "+--------------------+-----------+\n",
      "only showing top 5 rows\n",
      "\n"
     ]
    },
    {
     "name": "stderr",
     "output_type": "stream",
     "text": [
      "                                                                                "
     ]
    }
   ],
   "source": [
    "# Which playlist gets played the most?\n",
    "agg_df.groupby(\"playlist_id\").agg(f.count(\"match_id\").alias(\"total_plays\")).sort(\"total_plays\", ascending = False)\\\n",
    "    .select(\"playlist_id\",\"total_plays\").show(5)"
   ]
  },
  {
   "cell_type": "code",
   "execution_count": null,
   "id": "da499e37-ec24-438e-b04b-c02fd3b7f9f1",
   "metadata": {},
   "outputs": [],
   "source": []
  },
  {
   "cell_type": "code",
   "execution_count": null,
   "id": "708e45d7-5286-4878-904d-53a74ffda4d6",
   "metadata": {},
   "outputs": [],
   "source": [
    "# Which map gets played the most?\n",
    "agg_df.groupby(\"mapid\").agg(f.count(\"match_id\").alias(\"total_plays\")).sort(\"total_plays\", ascending = False)\\\n",
    "    .select(\"mapid\",\"total_plays\").show(5)"
   ]
  },
  {
   "cell_type": "code",
   "execution_count": null,
   "id": "9b5310ed-2fdd-430f-96ef-df9be5b215f3",
   "metadata": {},
   "outputs": [],
   "source": [
    "# Which map do players get the most Killing Spree medals on?\n",
    "agg_df.join(f.broadcast(medals), \"medal_id\")\\\n",
    "    .where(medals.name == \"Killing Spree\")\\\n",
    "    .groupby(\"mapid\").agg(f.count(\"match_id\").alias(\"total_plays\")).sort(\"total_plays\", ascending = False)\\\n",
    "    .select(\"mapid\",\"total_plays\").show(5)"
   ]
  },
  {
   "cell_type": "code",
   "execution_count": null,
   "id": "47b1fee6-fe4d-4cca-a810-0a72067b4730",
   "metadata": {},
   "outputs": [],
   "source": []
  },
  {
   "cell_type": "code",
   "execution_count": null,
   "id": "5919373e-52cb-4d08-81ab-0cfd460868d8",
   "metadata": {},
   "outputs": [],
   "source": []
  },
  {
   "cell_type": "code",
   "execution_count": null,
   "id": "0c198483-8883-4b85-b6e3-e33dc3806c72",
   "metadata": {},
   "outputs": [],
   "source": []
  },
  {
   "cell_type": "code",
   "execution_count": null,
   "id": "8fae8e48-30dd-48f6-8b8c-db97fa21ad9a",
   "metadata": {},
   "outputs": [],
   "source": []
  },
  {
   "cell_type": "code",
   "execution_count": null,
   "id": "f622b952-15da-4ec6-aae5-2511f711f1a8",
   "metadata": {},
   "outputs": [],
   "source": []
  },
  {
   "cell_type": "code",
   "execution_count": null,
   "id": "285eac42-102f-48ec-b6dc-e58537c2ff7f",
   "metadata": {},
   "outputs": [],
   "source": []
  },
  {
   "cell_type": "code",
   "execution_count": null,
   "id": "ad060943-5d00-48a6-9916-d536947c7fb5",
   "metadata": {},
   "outputs": [],
   "source": [
    "sorted_mapid = agg_df.repartition(10).sortWithinPartitions(\"mapid\")\n",
    "sorted_playlist_id = agg_df.repartition(10).sortWithinPartitions(\"playlist_id\")\n",
    "sorted_sorted_map_playlist_id = agg_df.repartition(10).sortWithinPartitions(\"mapid\",\"playlist_id\")"
   ]
  },
  {
   "cell_type": "code",
   "execution_count": null,
   "id": "01fcc5e9-0ead-4d9d-abdd-8fd7b62f8e2e",
   "metadata": {},
   "outputs": [],
   "source": [
    "sorted_mapid.write.mode(\"overwrite\").saveAsTable(\"bootcamp.sorted_mapid\")\n",
    "sorted_playlist_id.write.mode(\"overwrite\").saveAsTable(\"bootcamp.sorted_playlist_id\")\n",
    "sorted_sorted_map_playlist_id.write.mode(\"overwrite\").saveAsTable(\"bootcamp.sorted_sorted_map_playlist_id\")"
   ]
  },
  {
   "cell_type": "code",
   "execution_count": 2,
   "id": "3ae0270e-ac14-4d29-beb0-47c9dc7ef4a0",
   "metadata": {},
   "outputs": [
    {
     "name": "stderr",
     "output_type": "stream",
     "text": [
      "                                                                                "
     ]
    },
    {
     "name": "stdout",
     "output_type": "stream",
     "text": [
      "+-----------------------+--------------------+\n",
      "|sum(file_size_in_bytes)|           tablename|\n",
      "+-----------------------+--------------------+\n",
      "|               25127687|        sorted_mapid|\n",
      "|               25185934|  sorted_playlist_id|\n",
      "|               24116516|sorted_sorted_map...|\n",
      "+-----------------------+--------------------+\n",
      "\n"
     ]
    }
   ],
   "source": [
    "spark.sql(\"\"\"\n",
    "select sum(file_size_in_bytes), 'sorted_mapid' as tablename from bootcamp.sorted_mapid.files\n",
    "union all\n",
    "select sum(file_size_in_bytes), 'sorted_playlist_id' as tablename from bootcamp.sorted_playlist_id.files\n",
    "union all\n",
    "select sum(file_size_in_bytes), 'sorted_sorted_map_playlist_id' as tablename from bootcamp.sorted_sorted_map_playlist_id.files\n",
    "\"\"\").show()"
   ]
  },
  {
   "cell_type": "code",
   "execution_count": null,
   "id": "888f51a8-f5f2-4f40-88a6-80f94a2be9ab",
   "metadata": {},
   "outputs": [],
   "source": [
    "# stop the spark session\n",
    "spark.stop()"
   ]
  }
 ],
 "metadata": {
  "kernelspec": {
   "display_name": "Python 3 (ipykernel)",
   "language": "python",
   "name": "python3"
  },
  "language_info": {
   "codemirror_mode": {
    "name": "ipython",
    "version": 3
   },
   "file_extension": ".py",
   "mimetype": "text/x-python",
   "name": "python",
   "nbconvert_exporter": "python",
   "pygments_lexer": "ipython3",
   "version": "3.10.16"
  }
 },
 "nbformat": 4,
 "nbformat_minor": 5
}
