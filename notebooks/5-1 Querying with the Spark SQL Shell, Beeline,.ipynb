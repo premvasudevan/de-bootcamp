{
 "cells": [
  {
   "cell_type": "markdown",
   "id": "58bd709f-79be-451b-9a8f-b062d0c069cb",
   "metadata": {},
   "source": [
    "# Querying with the Spark SQL Shell, Beeline,\n",
    "\n",
    "## Using the Spark SQL Shell\n",
    "A convenient tool for executing Spark SQL queries is the spark-sql CLI. While this\n",
    "utility communicates with the Hive metastore service in local mode, it does not talk\n",
    "to the Thrift JDBC/ODBC server (a.k.a. Spark Thrift Server or STS). The STS allows\n",
    "JDBC/ODBC clients to execute SQL queries over JDBC and ODBC protocols on\n",
    "Apache Spark.\n",
    "\n",
    "To start the Spark SQL CLI, execute the following command in the $SPARK_HOME\n",
    "folder:\n",
    "\n",
    "./bin/spark-sql\n",
    "\n",
    "Once you’ve started the shell, you can use it to interactively perform Spark SQL queries.\n",
    "\n",
    "Let’s take a look at a few examples.\n",
    "Create a table\n",
    "To create a new permanent Spark SQL table, execute the following statement:\n",
    "\n",
    "spark-sql> CREATE TABLE people (name STRING, age int);\n",
    "\n",
    "Your output should be similar to this, noting the creation of the Spark SQL table\n",
    "people as well as its file location (/user/hive/warehouse/people):\n",
    "\n",
    "<!-- for me table file was created in below location since i ran spark-sql from venv\n",
    "25/04/07 22:54:24 WARN HiveMetaStore: Location: file:/Users/pvasud669@apac.comcast.com/spark/bin/spark-warehouse/table_using_cli specified for non-external table:table_using_cli\n",
    "Time taken: 1.037 seconds -->"
   ]
  },
  {
   "cell_type": "markdown",
   "id": "6d720381-1045-494d-8c2c-fbc9deb46ba8",
   "metadata": {},
   "source": [
    "## Insert data into the table\n",
    "You can insert data into a Spark SQL table by executing a statement similar to:\n",
    "INSERT INTO people SELECT name, age FROM ...\n",
    "As you’re not dependent on loading data from a preexisting table or file, you can\n",
    "insert data into the table using INSERT...VALUES statements. These three statements\n",
    "insert three individuals (their names and ages, if known) into the people table\n",
    "\n",
    "spark-sql> INSERT INTO people VALUES (\"Michael\", NULL);\n",
    "Time taken: 1.696 seconds\n",
    "spark-sql> INSERT INTO people VALUES (\"Andy\", 30);\n",
    "Time taken: 0.744 seconds\n",
    "spark-sql> INSERT INTO people VALUES (\"Samantha\", 19);\n",
    "Time taken: 0.637 seconds\n",
    "spark-sql>"
   ]
  },
  {
   "cell_type": "markdown",
   "id": "1d223981-2e51-4acd-8dff-e9ef9fe71bf2",
   "metadata": {},
   "source": [
    "## Running a Spark SQL query\n",
    "Now that you have data in your table, you can run Spark SQL queries against it. Let’s\n",
    "start by viewing what tables exist in our metastore:\n",
    "\n",
    "spark-sql> SHOW TABLES;\n",
    "default people false\n",
    "Time taken: 0.016 seconds, Fetched 1 row(s)\n",
    "\n",
    "Next, let’s find out how many people in our table are younger than 20 years of age:\n",
    "\n",
    "spark-sql> SELECT * FROM people WHERE age < 20;\n",
    "Samantha 19\n",
    "Time taken: 0.593 seconds, Fetched 1 row(s)\n",
    "\n",
    "As well, let’s see who the individuals are who did not specify their age:\n",
    "\n",
    "spark-sql> SELECT name FROM people WHERE age IS NULL;\n",
    "Michael\n",
    "Time taken: 0.272 seconds, Fetched 1 row(s)"
   ]
  },
  {
   "cell_type": "code",
   "execution_count": null,
   "id": "29a40698-ab03-4aa0-94ff-fbb5de46d985",
   "metadata": {},
   "outputs": [],
   "source": []
  },
  {
   "cell_type": "code",
   "execution_count": null,
   "id": "7c8c2faa-ffde-4dc3-97bc-643e55ca4afa",
   "metadata": {},
   "outputs": [],
   "source": []
  },
  {
   "cell_type": "code",
   "execution_count": null,
   "id": "a579b2a4-1c91-434c-ab1b-4a565286bf1c",
   "metadata": {},
   "outputs": [],
   "source": []
  },
  {
   "cell_type": "code",
   "execution_count": null,
   "id": "9c11e4ea-a2f4-4368-91f3-220bcb7be291",
   "metadata": {},
   "outputs": [],
   "source": []
  }
 ],
 "metadata": {
  "kernelspec": {
   "display_name": "spark venv",
   "language": "python",
   "name": "venv"
  },
  "language_info": {
   "codemirror_mode": {
    "name": "ipython",
    "version": 3
   },
   "file_extension": ".py",
   "mimetype": "text/x-python",
   "name": "python",
   "nbconvert_exporter": "python",
   "pygments_lexer": "ipython3",
   "version": "3.8.13"
  }
 },
 "nbformat": 4,
 "nbformat_minor": 5
}
