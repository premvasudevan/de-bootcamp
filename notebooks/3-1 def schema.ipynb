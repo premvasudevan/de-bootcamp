{
 "cells": [
  {
   "cell_type": "markdown",
   "id": "ae998862-fd0a-4124-8bc1-8c64a64fcf86",
   "metadata": {},
   "source": [
    "# schemas and creating dataframe\n",
    "\n",
    "A schema in Spark defines the column names and associated data types for a Data‐Frame\n",
    "\n",
    "Defining a schema up front as opposed to taking a schema-on-read approach offers three benefits\n",
    "\n",
    "    1. You relieve Spark from the onus of inferring data types.\n",
    "    2. You prevent Spark from creating a separate job just to read a large portion of your file to ascertain the schema, which for a large data file can be expensive and time-consuming.\n",
    "    3. You can detect errors early if data doesn’t match the schema"
   ]
  },
  {
   "cell_type": "code",
   "execution_count": 1,
   "id": "bdae96d3-de2e-4b7c-af77-527e08249375",
   "metadata": {},
   "outputs": [],
   "source": [
    "from pyspark.sql.types import *\n",
    "from pyspark.sql import SparkSession"
   ]
  },
  {
   "cell_type": "code",
   "execution_count": 2,
   "id": "66dec50e-6e5e-4b6d-b03b-ae5b3ed75625",
   "metadata": {},
   "outputs": [],
   "source": [
    "# defining schema programmatically\n",
    "\n",
    "schema = StructType([StructField(\"author\", StringType(), False),\n",
    "                     StructField(\"title\", StringType(), False),\n",
    "                     StructField(\"pages\", IntegerType(), False)])"
   ]
  },
  {
   "cell_type": "code",
   "execution_count": 3,
   "id": "7d0c19e5-4c3c-4c61-8828-78941f437153",
   "metadata": {},
   "outputs": [],
   "source": [
    "# defining schema using DDL\n",
    "\n",
    "schema_ddl = \"author STRING, title STRING, pages INT\"\n"
   ]
  },
  {
   "cell_type": "code",
   "execution_count": 4,
   "id": "b1b95ee4-161a-4991-9edd-00a58231f9dd",
   "metadata": {},
   "outputs": [],
   "source": [
    "data = [[\"john\", \"book-1\", 123],\n",
    "        [\"jane\", \"book-2\", 234],\n",
    "        [\"smith\", \"who are you\", 121]]"
   ]
  },
  {
   "cell_type": "code",
   "execution_count": 5,
   "id": "e24894e3-f414-4751-b981-0868712206fe",
   "metadata": {},
   "outputs": [
    {
     "name": "stderr",
     "output_type": "stream",
     "text": [
      "Setting default log level to \"WARN\".\n",
      "To adjust logging level use sc.setLogLevel(newLevel). For SparkR, use setLogLevel(newLevel).\n",
      "25/02/28 12:57:00 WARN NativeCodeLoader: Unable to load native-hadoop library for your platform... using builtin-java classes where applicable\n",
      "25/02/28 12:57:00 WARN Utils: Service 'SparkUI' could not bind on port 4040. Attempting port 4041.\n"
     ]
    }
   ],
   "source": [
    "spark = SparkSession.builder.appName(\"schema\").getOrCreate()\n",
    "\n",
    "df = spark.createDataFrame(data, schema_ddl)"
   ]
  },
  {
   "cell_type": "code",
   "execution_count": 6,
   "id": "f6ac514f-8f7d-4ea1-96c2-8d609c63e3cc",
   "metadata": {},
   "outputs": [
    {
     "name": "stderr",
     "output_type": "stream",
     "text": [
      "                                                                                "
     ]
    },
    {
     "name": "stdout",
     "output_type": "stream",
     "text": [
      "+------+-----------+-----+\n",
      "|author|      title|pages|\n",
      "+------+-----------+-----+\n",
      "|  john|     book-1|  123|\n",
      "|  jane|     book-2|  234|\n",
      "| smith|who are you|  121|\n",
      "+------+-----------+-----+\n",
      "\n"
     ]
    }
   ],
   "source": [
    "df.show()"
   ]
  },
  {
   "cell_type": "code",
   "execution_count": 7,
   "id": "dbb27ba2-b11f-41bc-8206-f95c5cddf011",
   "metadata": {},
   "outputs": [
    {
     "name": "stdout",
     "output_type": "stream",
     "text": [
      "root\n",
      " |-- author: string (nullable = true)\n",
      " |-- title: string (nullable = true)\n",
      " |-- pages: integer (nullable = true)\n",
      "\n"
     ]
    }
   ],
   "source": [
    "# print schema\n",
    "df.printSchema()"
   ]
  },
  {
   "cell_type": "code",
   "execution_count": 8,
   "id": "1ba3a514-aa98-4565-b6f7-446daecb7d7c",
   "metadata": {},
   "outputs": [
    {
     "data": {
      "text/plain": [
       "StructType([StructField('author', StringType(), True), StructField('title', StringType(), True), StructField('pages', IntegerType(), True)])"
      ]
     },
     "execution_count": 8,
     "metadata": {},
     "output_type": "execute_result"
    }
   ],
   "source": [
    "# show schema in programmatic way which can be referred and used later\n",
    "\n",
    "df.schema"
   ]
  }
 ],
 "metadata": {
  "kernelspec": {
   "display_name": "Python 3 (ipykernel)",
   "language": "python",
   "name": "python3"
  },
  "language_info": {
   "codemirror_mode": {
    "name": "ipython",
    "version": 3
   },
   "file_extension": ".py",
   "mimetype": "text/x-python",
   "name": "python",
   "nbconvert_exporter": "python",
   "pygments_lexer": "ipython3",
   "version": "3.8.13"
  }
 },
 "nbformat": 4,
 "nbformat_minor": 5
}
