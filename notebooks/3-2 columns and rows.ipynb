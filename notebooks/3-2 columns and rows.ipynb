{
 "cells": [
  {
   "cell_type": "markdown",
   "id": "7eb5fab1-2f83-4e08-8b0a-6dad3522bb67",
   "metadata": {},
   "source": [
    "# question \n",
    "1. diff b/w loading using array of values and array of rows"
   ]
  },
  {
   "cell_type": "code",
   "execution_count": 1,
   "id": "25069bcf-83e1-43f3-aeeb-22c615189b08",
   "metadata": {},
   "outputs": [],
   "source": [
    "from pyspark.sql.types import *\n",
    "from pyspark.sql import SparkSession\n",
    "from pyspark.sql.functions import expr"
   ]
  },
  {
   "cell_type": "code",
   "execution_count": 2,
   "id": "6d9f7fc9-c0ae-468f-9817-21bec45df09e",
   "metadata": {},
   "outputs": [],
   "source": [
    "# defining schema programmatically\n",
    "\n",
    "schema = StructType([StructField(\"author\", StringType(), False),\n",
    "                     StructField(\"title\", StringType(), False),\n",
    "                     StructField(\"pages\", IntegerType(), False)])"
   ]
  },
  {
   "cell_type": "code",
   "execution_count": 3,
   "id": "e8376185-7fee-4c53-a9b0-2078933e991a",
   "metadata": {},
   "outputs": [],
   "source": [
    "data = [[\"john\", \"book-1\", 123],\n",
    "        [\"jane\", \"book-2\", 234],\n",
    "        [\"smith\", \"who are you\", 121]]"
   ]
  },
  {
   "cell_type": "code",
   "execution_count": 4,
   "id": "000b3f0a-4ad1-49e0-a3b1-3088e0c31087",
   "metadata": {},
   "outputs": [
    {
     "name": "stderr",
     "output_type": "stream",
     "text": [
      "Setting default log level to \"WARN\".\n",
      "To adjust logging level use sc.setLogLevel(newLevel). For SparkR, use setLogLevel(newLevel).\n",
      "25/02/28 20:05:37 WARN NativeCodeLoader: Unable to load native-hadoop library for your platform... using builtin-java classes where applicable\n",
      "25/02/28 20:05:38 WARN Utils: Service 'SparkUI' could not bind on port 4040. Attempting port 4041.\n",
      "25/02/28 20:05:38 WARN Utils: Service 'SparkUI' could not bind on port 4041. Attempting port 4042.\n"
     ]
    }
   ],
   "source": [
    "spark = SparkSession.builder.appName(\"schema\").getOrCreate()\n",
    "\n",
    "df = spark.createDataFrame(data, schema)"
   ]
  },
  {
   "cell_type": "code",
   "execution_count": 5,
   "id": "4fe4afb6-4b61-4192-b6a6-d82aea568772",
   "metadata": {
    "scrolled": true
   },
   "outputs": [
    {
     "name": "stderr",
     "output_type": "stream",
     "text": [
      "                                                                                "
     ]
    },
    {
     "name": "stdout",
     "output_type": "stream",
     "text": [
      "+-----+\n",
      "|pages|\n",
      "+-----+\n",
      "|  123|\n",
      "|  234|\n",
      "|  121|\n",
      "+-----+\n",
      "\n"
     ]
    }
   ],
   "source": [
    "df.select(df.pages).show()"
   ]
  },
  {
   "cell_type": "code",
   "execution_count": 6,
   "id": "8901f3eb-747e-49fd-a981-60f0e8333c16",
   "metadata": {},
   "outputs": [
    {
     "name": "stdout",
     "output_type": "stream",
     "text": [
      "+-------+\n",
      "|2xPages|\n",
      "+-------+\n",
      "|    246|\n",
      "|    468|\n",
      "|    242|\n",
      "+-------+\n",
      "\n"
     ]
    }
   ],
   "source": [
    "df.select((df.pages * 2).alias(\"2xPages\")).show()"
   ]
  },
  {
   "cell_type": "markdown",
   "id": "439bf83c-097a-4d4a-a295-97c3f41d857d",
   "metadata": {},
   "source": [
    "## ROWS"
   ]
  },
  {
   "cell_type": "code",
   "execution_count": 7,
   "id": "7ac280ff-96f0-4450-9696-9834ae105fb9",
   "metadata": {},
   "outputs": [
    {
     "name": "stdout",
     "output_type": "stream",
     "text": [
      "title is \"who are you\"\n"
     ]
    }
   ],
   "source": [
    "from pyspark.sql import Row\n",
    "\n",
    "row = Row(\"jane\",\"who are you\",123)\n",
    "title = row[1]\n",
    "print(f'title is \\\"{title}\\\"')"
   ]
  },
  {
   "cell_type": "code",
   "execution_count": 8,
   "id": "f1eb83b4-3a59-4638-9615-9070e5549b3d",
   "metadata": {},
   "outputs": [
    {
     "name": "stdout",
     "output_type": "stream",
     "text": [
      "+-----+-----------+-----+\n",
      "| name|      title|pages|\n",
      "+-----+-----------+-----+\n",
      "| john|     book-1|  123|\n",
      "| jane|     book-2|  234|\n",
      "|smith|who are you|  121|\n",
      "+-----+-----------+-----+\n",
      "\n"
     ]
    }
   ],
   "source": [
    "rows = [Row(\"john\", \"book-1\", 123),\n",
    "        Row(\"jane\", \"book-2\", 234),\n",
    "        Row(\"smith\", \"who are you\", 121)]\n",
    "\n",
    "df_rows = spark.createDataFrame(rows,[\"name\",\"title\",\"pages\"])\n",
    "df_rows.show()"
   ]
  },
  {
   "cell_type": "code",
   "execution_count": null,
   "id": "39382229-58b0-4c29-a181-325fd3fd46da",
   "metadata": {},
   "outputs": [],
   "source": []
  }
 ],
 "metadata": {
  "kernelspec": {
   "display_name": "Python 3 (ipykernel)",
   "language": "python",
   "name": "python3"
  },
  "language_info": {
   "codemirror_mode": {
    "name": "ipython",
    "version": 3
   },
   "file_extension": ".py",
   "mimetype": "text/x-python",
   "name": "python",
   "nbconvert_exporter": "python",
   "pygments_lexer": "ipython3",
   "version": "3.8.13"
  }
 },
 "nbformat": 4,
 "nbformat_minor": 5
}
