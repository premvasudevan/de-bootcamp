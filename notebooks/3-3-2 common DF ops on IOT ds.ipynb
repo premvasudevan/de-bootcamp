{
 "cells": [
  {
   "cell_type": "markdown",
   "id": "f25a90ce-bc67-4494-b08f-b962269a3abc",
   "metadata": {},
   "source": [
    "# # currently this cell only outputs schema result which is last executed, to output both in jupyter cell configuration need to be changed\n",
    "# %config InteractiveShell.ast_node_interactivity = 'all'\n",
    "\n",
    "\n",
    "--------------------\n",
    "when errors are deducted in structured APIs\n",
    "                SQL       Dataframes      Dataset \n",
    "syntax error    Runtime   Compile time    Compile time\n",
    "analysis error  Runtime   runtime         compile time\n",
    "--------------------\n",
    "\n",
    "There are some scenarios where you’ll want to consider using RDDs, such as when\n",
    "you:\n",
    "• Are using a third-party package that’s written using RDDs\n",
    "• Can forgo the code optimization, efficient space utilization, and performance\n",
    "benefits available with DataFrames and Datasets\n",
    "• Want to precisely instruct Spark how to do a query\n",
    "----------------------"
   ]
  },
  {
   "cell_type": "code",
   "execution_count": 1,
   "id": "6f2b1eee-02ca-4f8a-9c7d-74c5e62f9f76",
   "metadata": {},
   "outputs": [],
   "source": [
    "# %config InteractiveShell.ast_node_interactivity = 'all'"
   ]
  },
  {
   "cell_type": "code",
   "execution_count": 2,
   "id": "4813c39b-2805-4a53-9ca9-757b2f46e908",
   "metadata": {},
   "outputs": [],
   "source": [
    "from pyspark.sql import SparkSession"
   ]
  },
  {
   "cell_type": "code",
   "execution_count": 3,
   "id": "0e257969-80a0-447f-bd69-d30499b7e399",
   "metadata": {},
   "outputs": [
    {
     "name": "stderr",
     "output_type": "stream",
     "text": [
      "Setting default log level to \"WARN\".\n",
      "To adjust logging level use sc.setLogLevel(newLevel). For SparkR, use setLogLevel(newLevel).\n",
      "25/03/30 18:59:04 WARN NativeCodeLoader: Unable to load native-hadoop library for your platform... using builtin-java classes where applicable\n"
     ]
    }
   ],
   "source": [
    "# creating spark session\n",
    "\n",
    "spark = SparkSession\\\n",
    "            .builder\\\n",
    "            .appName(\"IOT-ds-analysis\")\\\n",
    "            .getOrCreate()"
   ]
  },
  {
   "cell_type": "code",
   "execution_count": 4,
   "id": "cc386221-233a-4258-8573-b91f875389ab",
   "metadata": {},
   "outputs": [
    {
     "name": "stdout",
     "output_type": "stream",
     "text": [
      "iot dataset path: /Users/pvasud669@apac.comcast.com/repos/learnings/spark/datasets/iot_devices.json\n"
     ]
    }
   ],
   "source": [
    "import os\n",
    "\n",
    "iot_ds_path = os.path.join(os.getcwd(),\"datasets/iot_devices.json\")\n",
    "print(f'iot dataset path: {iot_ds_path}')"
   ]
  },
  {
   "cell_type": "code",
   "execution_count": 5,
   "id": "32d8789c-e538-47dd-9c55-15cc597d2504",
   "metadata": {},
   "outputs": [
    {
     "name": "stderr",
     "output_type": "stream",
     "text": [
      "                                                                                "
     ]
    }
   ],
   "source": [
    "# read dataset file\n",
    "\n",
    "iot_df = spark.read.json(iot_ds_path, multiLine=False)\n"
   ]
  },
  {
   "cell_type": "code",
   "execution_count": 6,
   "id": "ee111881-854d-4bf0-9541-ec15cf66bb5a",
   "metadata": {},
   "outputs": [
    {
     "name": "stdout",
     "output_type": "stream",
     "text": [
      "+-------------+------+\n",
      "|battery_level|   lcd|\n",
      "+-------------+------+\n",
      "|            8| green|\n",
      "|            7|   red|\n",
      "|            2|   red|\n",
      "|            6|yellow|\n",
      "|            4| green|\n",
      "|            3|yellow|\n",
      "|            3|yellow|\n",
      "|            0|   red|\n",
      "|            3| green|\n",
      "|            7|   red|\n",
      "|            3|   red|\n",
      "|            0|yellow|\n",
      "|            6|yellow|\n",
      "|            1|yellow|\n",
      "|            9|yellow|\n",
      "|            4|   red|\n",
      "|            0|   red|\n",
      "|            4|yellow|\n",
      "|            9|   red|\n",
      "|            7|yellow|\n",
      "+-------------+------+\n",
      "only showing top 20 rows\n",
      "\n"
     ]
    }
   ],
   "source": [
    "iot_df.columns\n",
    "iot_df.schema\n",
    "iot_df.select('battery_level','lcd').show()"
   ]
  },
  {
   "cell_type": "code",
   "execution_count": 7,
   "id": "bfa42c07-d40d-488f-ae03-314469bd9d0e",
   "metadata": {},
   "outputs": [
    {
     "name": "stdout",
     "output_type": "stream",
     "text": [
      "+------------------+------------------+------------------+\n",
      "|min(battery_level)|max(battery_level)|avg(battery_level)|\n",
      "+------------------+------------------+------------------+\n",
      "|                 0|                 9|4.4997678690377665|\n",
      "+------------------+------------------+------------------+\n",
      "\n",
      "+--------------------+\n",
      "|         device_name|\n",
      "+--------------------+\n",
      "| device-mac-36TWSKiT|\n",
      "|therm-stick-5gimp...|\n",
      "|sensor-pad-6al7RT...|\n",
      "|meter-gauge-7GeDoanM|\n",
      "|sensor-pad-8xUD6p...|\n",
      "| device-mac-9GcjZ2pw|\n",
      "|meter-gauge-11dlM...|\n",
      "|sensor-pad-12Y2kIm0o|\n",
      "|sensor-pad-14QL93...|\n",
      "|sensor-pad-16aXmI...|\n",
      "|meter-gauge-17zb8...|\n",
      "|sensor-pad-18XULN9Xv|\n",
      "|therm-stick-25kK6...|\n",
      "|sensor-pad-28Tsud...|\n",
      "|device-mac-33B94G...|\n",
      "|sensor-pad-36VQv8...|\n",
      "|device-mac-39iklY...|\n",
      "| sensor-pad-40NjeMqS|\n",
      "|meter-gauge-43RYo...|\n",
      "| sensor-pad-448DeWGL|\n",
      "+--------------------+\n",
      "only showing top 20 rows\n",
      "\n"
     ]
    }
   ],
   "source": [
    "# Detect failing devices with battery levels below a threshold.\n",
    "\n",
    "from pyspark.sql.functions import col, min, max, avg\n",
    "\n",
    "iot_df.select(min('battery_level'), max('battery_level'), avg('battery_level')).show()\n",
    "\n",
    "\n",
    "iot_df.select('device_name')\\\n",
    "        .where(col('battery_level') < 5)\\\n",
    "        .count()\\\n",
    "\n",
    "iot_df.select('device_name')\\\n",
    "        .where(col('battery_level') < 5)\\\n",
    "        .show()"
   ]
  },
  {
   "cell_type": "code",
   "execution_count": 18,
   "id": "db0e8443-6c5d-4359-aa9d-261db8cecd2e",
   "metadata": {},
   "outputs": [
    {
     "name": "stdout",
     "output_type": "stream",
     "text": [
      "+-----------------+---------+\n",
      "|               cn|total_co2|\n",
      "+-----------------+---------+\n",
      "|    United States| 82270735|\n",
      "|            China| 17349538|\n",
      "|            Japan| 14479050|\n",
      "|Republic of Korea| 14214130|\n",
      "|          Germany|  9526623|\n",
      "|   United Kingdom|  7799008|\n",
      "|           Canada|  7268528|\n",
      "|           Russia|  7203677|\n",
      "|           France|  6369745|\n",
      "|           Brazil|  3896972|\n",
      "|        Australia|  3734032|\n",
      "|            Italy|  3481854|\n",
      "|           Sweden|  3457874|\n",
      "|           Poland|  3275637|\n",
      "|      Netherlands|  2991051|\n",
      "|            Spain|  2773601|\n",
      "|           Taiwan|  2553613|\n",
      "|            India|  2220580|\n",
      "|                 |  2162108|\n",
      "|   Czech Republic|  1793205|\n",
      "+-----------------+---------+\n",
      "only showing top 20 rows\n",
      "\n"
     ]
    }
   ],
   "source": [
    "# Identify offending countries with high levels of CO2 emissions.\n",
    "from pyspark.sql.functions import sum\n",
    "\n",
    "# iot_df.columns\n",
    "\n",
    "iot_df.groupby('cn')\\\n",
    "        .sum('c02_level').withColumnRenamed('sum(c02_level)','total_co2')\\\n",
    "        .sort('total_co2', ascending=False)\\\n",
    "        .show()"
   ]
  },
  {
   "cell_type": "code",
   "execution_count": 21,
   "id": "5bed8004-e626-4275-ada2-8617182291c9",
   "metadata": {},
   "outputs": [
    {
     "name": "stdout",
     "output_type": "stream",
     "text": [
      "+---------+---------+------------------+------------------+--------------+--------------+-------------+-------------+\n",
      "|min(temp)|max(temp)|min(battery_level)|max(battery_level)|min(c02_level)|max(c02_level)|min(humidity)|max(humidity)|\n",
      "+---------+---------+------------------+------------------+--------------+--------------+-------------+-------------+\n",
      "|       10|       34|                 0|                 9|           800|          1599|           25|           99|\n",
      "+---------+---------+------------------+------------------+--------------+--------------+-------------+-------------+\n",
      "\n"
     ]
    }
   ],
   "source": [
    "# Compute the min and max values for temperature, battery level, CO2, and humidity.\n",
    "\n",
    "# iot_df.columns\n",
    "\n",
    "iot_df.select(min('temp'),max('temp'),min('battery_level'),max('battery_level'),min('c02_level'),max('c02_level'),min('humidity'),max('humidity')).show()\n",
    "\n"
   ]
  },
  {
   "cell_type": "code",
   "execution_count": 25,
   "id": "149e5370-219b-471a-874d-301c4419ef18",
   "metadata": {},
   "outputs": [
    {
     "name": "stdout",
     "output_type": "stream",
     "text": [
      "+-------------------+------------------+------------------+------------------+------------------+\n",
      "|                 cn|          avg_temp|avg(battery_level)|    avg(c02_level)|     avg(humidity)|\n",
      "+-------------------+------------------+------------------+------------------+------------------+\n",
      "|                   | 22.17292817679558| 4.502209944751381|1194.5348066298343|62.033149171270715|\n",
      "|        Afghanistan| 24.05263157894737| 4.105263157894737|1228.4736842105262|  66.6842105263158|\n",
      "|            Albania|          20.09375|           4.28125|            1161.0|          67.21875|\n",
      "|            Algeria| 20.91176470588235| 4.088235294117647|1210.9705882352941|63.029411764705884|\n",
      "|     American Samoa|              20.0| 7.333333333333333|1037.6666666666667|56.666666666666664|\n",
      "|            Andorra|             20.25|              7.75|            1279.0|              75.0|\n",
      "|             Angola|24.107142857142858| 5.178571428571429| 1115.142857142857| 66.03571428571429|\n",
      "|           Anguilla|31.142857142857142| 3.142857142857143| 1165.142857142857|50.714285714285715|\n",
      "|Antigua and Barbuda|20.933333333333334|              4.85|1171.4833333333333|              58.6|\n",
      "|          Argentina|22.060327198364007| 4.338445807770961|1195.1605316973414| 62.58486707566462|\n",
      "|            Armenia| 21.58823529411765| 4.323529411764706|1207.9117647058824| 63.23529411764706|\n",
      "|              Aruba|             20.75|               6.0|          1190.125|             64.75|\n",
      "|          Australia|21.908945174735493| 4.504007694773966|1197.1888425777493|  61.8348829753126|\n",
      "|            Austria|21.689466484268127| 4.570451436388509|1194.6155950752393| 62.19904240766074|\n",
      "|         Azerbaijan| 21.46938775510204|  4.26530612244898|1199.2448979591836| 58.55102040816327|\n",
      "|            Bahamas| 24.27777777777778| 4.555555555555555| 1177.388888888889| 68.61111111111111|\n",
      "|            Bahrain|21.527272727272727| 4.345454545454546|1203.8545454545454| 56.25454545454546|\n",
      "|         Bangladesh| 21.99346405228758| 4.228758169934641|1184.4117647058824|62.790849673202615|\n",
      "|           Barbados|23.210526315789473| 5.026315789473684|1257.5526315789473| 58.36842105263158|\n",
      "|            Belarus|22.317073170731707|4.7317073170731705|1208.4715447154472|63.333333333333336|\n",
      "+-------------------+------------------+------------------+------------------+------------------+\n",
      "only showing top 20 rows\n",
      "\n"
     ]
    },
    {
     "name": "stderr",
     "output_type": "stream",
     "text": [
      "                                                                                "
     ]
    }
   ],
   "source": [
    "# Sort and group by average temperature, CO2, humidity, and country.\n",
    "\n",
    "iot_df.groupby('cn')\\\n",
    "        .agg(avg('temp').alias('avg_temp'), avg('battery_level'), avg('c02_level'), avg('humidity'))\\\n",
    "        .sort('cn')\\\n",
    "        .show()"
   ]
  },
  {
   "cell_type": "code",
   "execution_count": 29,
   "id": "74b88791-2688-497c-8779-fd325dec8ba1",
   "metadata": {},
   "outputs": [
    {
     "name": "stdout",
     "output_type": "stream",
     "text": [
      "+-------------------+\n",
      "|                 cn|\n",
      "+-------------------+\n",
      "|             Russia|\n",
      "|           Paraguay|\n",
      "|           Anguilla|\n",
      "|              Macao|\n",
      "|U.S. Virgin Islands|\n",
      "|              Yemen|\n",
      "|            Senegal|\n",
      "|             Sweden|\n",
      "|  Republic of Korea|\n",
      "|        Philippines|\n",
      "|             Jersey|\n",
      "|          Singapore|\n",
      "|           Malaysia|\n",
      "|             Turkey|\n",
      "|             Malawi|\n",
      "|              Åland|\n",
      "|               Iraq|\n",
      "|            Germany|\n",
      "|           Cambodia|\n",
      "|        Afghanistan|\n",
      "+-------------------+\n",
      "only showing top 20 rows\n",
      "\n"
     ]
    },
    {
     "data": {
      "text/plain": [
       "209"
      ]
     },
     "execution_count": 29,
     "metadata": {},
     "output_type": "execute_result"
    }
   ],
   "source": [
    "# total number of countries \n",
    "\n",
    "iot_df.select('cn').distinct().show()\n",
    "iot_df.select('cn').distinct().count()"
   ]
  },
  {
   "cell_type": "raw",
   "id": "c459bb9f-74e4-4d77-a738-e47a9bb306f4",
   "metadata": {},
   "source": []
  }
 ],
 "metadata": {
  "kernelspec": {
   "display_name": "spark venv",
   "language": "python",
   "name": "venv"
  },
  "language_info": {
   "codemirror_mode": {
    "name": "ipython",
    "version": 3
   },
   "file_extension": ".py",
   "mimetype": "text/x-python",
   "name": "python",
   "nbconvert_exporter": "python",
   "pygments_lexer": "ipython3",
   "version": "3.8.13"
  }
 },
 "nbformat": 4,
 "nbformat_minor": 5
}
