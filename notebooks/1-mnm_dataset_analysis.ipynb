{
 "cells": [
  {
   "cell_type": "code",
   "execution_count": 1,
   "id": "e53a376d-e07b-48bd-9d6e-dbd41c6b22bd",
   "metadata": {},
   "outputs": [
    {
     "name": "stderr",
     "output_type": "stream",
     "text": [
      "Setting default log level to \"WARN\".\n",
      "To adjust logging level use sc.setLogLevel(newLevel). For SparkR, use setLogLevel(newLevel).\n",
      "25/02/28 10:16:39 WARN NativeCodeLoader: Unable to load native-hadoop library for your platform... using builtin-java classes where applicable\n"
     ]
    }
   ],
   "source": [
    "import pyspark\n",
    "from pyspark.sql import SparkSession\n",
    "\n",
    "spark = SparkSession.builder.appName(\"test2\").\\\n",
    "config(\"spark.driver.bindAddress\",\"localhost\").\\\n",
    "config(\"spark.ui.port\",\"4050\").\\\n",
    "getOrCreate()"
   ]
  },
  {
   "cell_type": "code",
   "execution_count": 2,
   "id": "137c9824-a7e2-40b5-ae16-ef5fdaf411b2",
   "metadata": {},
   "outputs": [
    {
     "data": {
      "text/plain": [
       "'3.5.4'"
      ]
     },
     "execution_count": 2,
     "metadata": {},
     "output_type": "execute_result"
    }
   ],
   "source": [
    "pyspark.__version__"
   ]
  },
  {
   "cell_type": "code",
   "execution_count": 3,
   "id": "54e97822-166e-44bb-bbca-623bdeaf117a",
   "metadata": {},
   "outputs": [
    {
     "name": "stdout",
     "output_type": "stream",
     "text": [
      "/Users/pvasud669@apac.comcast.com/repos/learnings/spark\n"
     ]
    }
   ],
   "source": [
    "import os\n",
    "print(os.getcwd())"
   ]
  },
  {
   "cell_type": "code",
   "execution_count": 4,
   "id": "ae22a225-d3fe-4070-8b9b-8654c883e0d8",
   "metadata": {},
   "outputs": [],
   "source": [
    "\n",
    "mnm_file = os.path.join(os.getcwd(), \"datasets\", \"mnm_dataset.csv\")\n",
    "mnm_dataset = spark.read.format(\"csv\")\\\n",
    "                    .option(\"header\",\"true\")\\\n",
    "                    .option(\"inferSchema\", \"true\")\\\n",
    "                    .load(mnm_file)"
   ]
  },
  {
   "cell_type": "code",
   "execution_count": 5,
   "id": "c551e8f3-3d62-494c-a2dc-c90c4c7d88de",
   "metadata": {},
   "outputs": [
    {
     "name": "stdout",
     "output_type": "stream",
     "text": [
      "+-----+------+-----+\n",
      "|State|Color |Count|\n",
      "+-----+------+-----+\n",
      "|TX   |Red   |20   |\n",
      "|NV   |Blue  |66   |\n",
      "|CO   |Blue  |79   |\n",
      "|OR   |Blue  |71   |\n",
      "|WA   |Yellow|93   |\n",
      "|WY   |Blue  |16   |\n",
      "|CA   |Yellow|53   |\n",
      "|WA   |Green |60   |\n",
      "|OR   |Green |71   |\n",
      "|TX   |Green |68   |\n",
      "+-----+------+-----+\n",
      "only showing top 10 rows\n",
      "\n"
     ]
    }
   ],
   "source": [
    "mnm_dataset.show(10, truncate=False)"
   ]
  },
  {
   "cell_type": "code",
   "execution_count": 6,
   "id": "f5c20b83-5c36-4f3c-add9-92fe44429a70",
   "metadata": {},
   "outputs": [
    {
     "name": "stdout",
     "output_type": "stream",
     "text": [
      "root\n",
      " |-- State: string (nullable = true)\n",
      " |-- Color: string (nullable = true)\n",
      " |-- Count: integer (nullable = true)\n",
      "\n"
     ]
    }
   ],
   "source": [
    "mnm_dataset.printSchema()"
   ]
  },
  {
   "cell_type": "code",
   "execution_count": 7,
   "id": "187cc8a5-ad63-4b1e-bf73-916206b9c944",
   "metadata": {},
   "outputs": [],
   "source": [
    "# group data based on state and color\n",
    "from pyspark.sql.functions import count, sum\n",
    "\n",
    "agg_data = mnm_dataset.select(\"State\",\"Color\",\"Count\")\\\n",
    "                    .groupBy(\"State\",\"Color\")\\\n",
    "                    .agg(sum(\"Count\").alias(\"Total_count\"))\\\n",
    "                    .orderBy(\"State\", \"Color\")"
   ]
  },
  {
   "cell_type": "code",
   "execution_count": 8,
   "id": "a4037ce8-1823-45b2-830c-74d913518413",
   "metadata": {},
   "outputs": [
    {
     "name": "stdout",
     "output_type": "stream",
     "text": [
      "+-----+------+-----------+\n",
      "|State| Color|Total_count|\n",
      "+-----+------+-----------+\n",
      "|   AZ|  Blue|      89971|\n",
      "|   AZ| Brown|      92287|\n",
      "|   AZ| Green|      91882|\n",
      "|   AZ|Orange|      91684|\n",
      "|   AZ|   Red|      90042|\n",
      "|   AZ|Yellow|      90946|\n",
      "|   CA|  Blue|      89123|\n",
      "|   CA| Brown|      95762|\n",
      "|   CA| Green|      93505|\n",
      "|   CA|Orange|      90311|\n",
      "|   CA|   Red|      91527|\n",
      "|   CA|Yellow|     100956|\n",
      "|   CO|  Blue|      93412|\n",
      "|   CO| Brown|      93692|\n",
      "|   CO| Green|      93724|\n",
      "|   CO|Orange|      90971|\n",
      "|   CO|   Red|      89465|\n",
      "|   CO|Yellow|      95038|\n",
      "|   NM|  Blue|      90150|\n",
      "|   NM| Brown|      93447|\n",
      "+-----+------+-----------+\n",
      "only showing top 20 rows\n",
      "\n"
     ]
    }
   ],
   "source": [
    "agg_data.show()"
   ]
  },
  {
   "cell_type": "code",
   "execution_count": 9,
   "id": "60092621-286b-4dcb-b224-4eaa466517a7",
   "metadata": {},
   "outputs": [],
   "source": [
    "# show details only for TX\n",
    "tx_agg_data = agg_data.where(agg_data.State == \"TX\").orderBy(\"Total_count\", ascending=False)"
   ]
  },
  {
   "cell_type": "code",
   "execution_count": 10,
   "id": "2782b8f5-6ea0-4576-aefe-9e79c6819393",
   "metadata": {},
   "outputs": [
    {
     "name": "stdout",
     "output_type": "stream",
     "text": [
      "+-----+------+-----------+\n",
      "|State| Color|Total_count|\n",
      "+-----+------+-----------+\n",
      "|   TX| Green|      95753|\n",
      "|   TX|   Red|      95404|\n",
      "|   TX|Yellow|      93819|\n",
      "|   TX|Orange|      92315|\n",
      "|   TX| Brown|      90736|\n",
      "|   TX|  Blue|      88466|\n",
      "+-----+------+-----------+\n",
      "\n"
     ]
    }
   ],
   "source": [
    "tx_agg_data.show()"
   ]
  },
  {
   "cell_type": "code",
   "execution_count": 11,
   "id": "e32655cc-17e5-474d-b8c9-9c642ee54628",
   "metadata": {},
   "outputs": [
    {
     "name": "stdout",
     "output_type": "stream",
     "text": [
      "+-----+-----+-----------+\n",
      "|State|Color|Total_count|\n",
      "+-----+-----+-----------+\n",
      "|   TX|Green|      95753|\n",
      "+-----+-----+-----------+\n",
      "only showing top 1 row\n",
      "\n"
     ]
    }
   ],
   "source": [
    "tx_agg_data.show(1)"
   ]
  },
  {
   "cell_type": "code",
   "execution_count": null,
   "id": "1399ff51-72e4-45f9-a0cb-8de43170b180",
   "metadata": {},
   "outputs": [],
   "source": []
  }
 ],
 "metadata": {
  "kernelspec": {
   "display_name": "spark venv",
   "language": "python",
   "name": "venv"
  },
  "language_info": {
   "codemirror_mode": {
    "name": "ipython",
    "version": 3
   },
   "file_extension": ".py",
   "mimetype": "text/x-python",
   "name": "python",
   "nbconvert_exporter": "python",
   "pygments_lexer": "ipython3",
   "version": "3.8.13"
  }
 },
 "nbformat": 4,
 "nbformat_minor": 5
}
